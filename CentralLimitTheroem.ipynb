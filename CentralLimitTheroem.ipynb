{
  "cells": [
    {
      "cell_type": "markdown",
      "metadata": {
        "id": "view-in-github",
        "colab_type": "text"
      },
      "source": [
        "<a href=\"https://colab.research.google.com/github/mhtattersall/Probability/blob/main/CentralLimitTheroem.ipynb\" target=\"_parent\"><img src=\"https://colab.research.google.com/assets/colab-badge.svg\" alt=\"Open In Colab\"/></a>"
      ]
    },
    {
      "cell_type": "markdown",
      "metadata": {
        "id": "EkUDe7zEYW5Q"
      },
      "source": [
        "# The Central Limit Theorem\n",
        "\n",
        "\n",
        "**IMPORTANT INSTRUCTIONS:** This activity is designed for you to experiment with Python code about samplig, variance, and mean. Feel free to change any numerical value throughout the code in the activity to visualize different outcomes and results."
      ]
    },
    {
      "cell_type": "markdown",
      "metadata": {
        "id": "1JZxE9sNYW5R"
      },
      "source": [
        "## The Central Limit Theorem\n",
        "\n",
        "The central limit theorem (CLT) is a fundamental theorem of statistics that lays the foundations for understanding the results of *sampling*.\n",
        "\n",
        "\n",
        "### Formal Definition\n",
        "\n",
        "The central limit theorem (CLT) states that the distribution of a sample variable approximates a normal distribution as the *sample* size becomes larger, assuming that all *samples* are identical in size and regardless of the population's actual distribution shape.\n",
        "\n",
        "In other words, according to the CLT, the mean of a *sample* of data will be closer to the mean of the overall population in question, as the *sample* size increases.\n",
        "\n",
        "### Key Terms\n",
        "\n",
        "Imagine performing a *trial*  and getting an *observation*. Next, imagine repeating the *trial* again and getting a new independent *observation*. Collected together, multiple *observations* represent a *sample* of *observations*.\n",
        "\n",
        "As you know, a sample is a group of *observations* from a broader *population*.\n",
        "\n",
        "Let's first understand the differences between the words *observation*, *sample*, and *population*:\n",
        "\n",
        "- *Observation*: is the result from one *trial* of an experiment.\n",
        "- *Sample*: is the group of results gathered from separate independent *trials*.\n",
        "- *Population*: Is the space of all possible observations that could be seen from a trial.\n",
        "\n",
        "The mean of a *sample* won't be exactly the same mean of the *population* distribution: like any estimate, it will be wrong and will contain some error. However, if you draw multiple independent *samples* and calculate their means, the distribution of those means will form a Gaussian distribution.\n",
        "\n",
        "### Key Takeaways\n",
        "\n",
        "Without going too deep into the mathematical details of the CLT, here are some fundamental takeways from it:\n",
        "\n",
        "\n",
        "- The CLT states that the distribution of *sample* means approximates a normal distribution as the sample size gets larger, regardless of the *population*'s distribution.\n",
        "- Sample sizes equal to or greater than **30** are often considered sufficient for the CLT to hold.\n",
        "- The average of the means and standard deviations of the *sample* will equal the mean and standard deviation of the *population*.\n"
      ]
    },
    {
      "cell_type": "markdown",
      "metadata": {
        "id": "XSQQ1qxQYW5S"
      },
      "source": [
        "## Uniform Distribution\n",
        "\n",
        "For this example, assume that you are rolling a fair six-faced die.\n",
        "\n",
        "As you already know, the distribution of the numbers that turn up from a die roll is uniform.\n",
        "\n",
        "Assume that we roll the die 50 times.\n",
        "\n",
        "Theoretically, the mean of the experiment is given by:\n",
        "\n",
        "$$\\mu_x = \\frac{\\sum X}{N} =\\frac{1+2+3+4+5+6}{6} = 3.5$$"
      ]
    },
    {
      "cell_type": "markdown",
      "metadata": {
        "id": "hYHDUgIzYW5S"
      },
      "source": [
        " In the code cell below, we use Python to generate the sample of 50 die rolls and the mean value of the sample."
      ]
    },
    {
      "cell_type": "code",
      "execution_count": null,
      "metadata": {
        "colab": {
          "base_uri": "https://localhost:8080/"
        },
        "id": "Q8aXskszYW5S",
        "outputId": "5b0fc8a1-0db8-4a64-ee32-bd85318c7143"
      },
      "outputs": [
        {
          "output_type": "stream",
          "name": "stdout",
          "text": [
            "[6 4 5 1 2 4 6 1 1 2 5 6 5 2 3 5 6 3 5 4 5 3 5 6 3 5 2 2 1 6 2 2 6 2 2 1 5\n",
            " 2 1 1 6 4 3 2 1 4 6 2 2 4]\n",
            "3.44\n"
          ]
        }
      ],
      "source": [
        "from numpy.random import seed\n",
        "from numpy.random import randint\n",
        "from numpy import mean\n",
        "\n",
        "# seed the random number generator for reproducibility\n",
        "seed(1)\n",
        "\n",
        "# generate a sample of die rolls\n",
        "rolls = randint(1, 7, 50)\n",
        "print(rolls)\n",
        "print(mean(rolls))\n"
      ]
    },
    {
      "cell_type": "markdown",
      "metadata": {
        "id": "d3JyMUB6YW5T"
      },
      "source": [
        "You can see that the *sample* mean is not exactly the same as the theoretical one.\n",
        "\n",
        "Can you guess why? What happens to the *sample* mean if you increase the number of trials?"
      ]
    },
    {
      "cell_type": "markdown",
      "metadata": {
        "id": "C4-oQi_sYW5T"
      },
      "source": [
        "**DOUBLE CLICK HERE TO TYPE YOUR SOLUTION**\n",
        "The sample mean is 3.44 with 50 trials, 3.47 with 500 trial and 3.51 with 5,000 trials.  The sample mean gets closer to the theoretical mean as the number of trials increases.\n",
        "\n"
      ]
    },
    {
      "cell_type": "markdown",
      "metadata": {
        "id": "SgsFX4VCYW5T"
      },
      "source": [
        "Next, repeat the processs multiple times. Repeating it 100 times, will give you a result of 100 sample means.\n",
        "\n",
        "Run the code cell below:"
      ]
    },
    {
      "cell_type": "code",
      "execution_count": null,
      "metadata": {
        "id": "qfmfTkXIYW5T"
      },
      "outputs": [],
      "source": [
        "# calculate the mean of 50 dice rolls 100 times\n",
        "means = [mean(randint(1, 7, 50)) for i in range(10000)]"
      ]
    },
    {
      "cell_type": "markdown",
      "metadata": {
        "id": "WTSV9LEeYW5T"
      },
      "source": [
        "Finally, we can use Matplotlib to the distribution of these sample means."
      ]
    },
    {
      "cell_type": "code",
      "execution_count": null,
      "metadata": {
        "colab": {
          "base_uri": "https://localhost:8080/",
          "height": 430
        },
        "id": "sYx3C-WdYW5T",
        "outputId": "8275416e-3467-4e09-d603-70d9e1a3b153"
      },
      "outputs": [
        {
          "output_type": "display_data",
          "data": {
            "text/plain": [
              "<Figure size 640x480 with 1 Axes>"
            ],
            "image/png": "[encoded data removed]"
          },
          "metadata": {}
        }
      ],
      "source": [
        "import matplotlib.pyplot as plt\n",
        "# plot the distribution of sample means\n",
        "plt.hist(means)\n",
        "plt.show()"
      ]
    },
    {
      "cell_type": "markdown",
      "metadata": {
        "id": "zU0arMoNYW5T"
      },
      "source": [
        "You will notice that the distribution doesn't really resemble a Gaussian.\n",
        "\n",
        "How can you improve the result? What happens if you increase the number of *trials* even more?"
      ]
    },
    {
      "cell_type": "markdown",
      "metadata": {
        "id": "VIHtLNOpYW5T"
      },
      "source": [
        "**DOUBLE CLICK HERE TO TYPE YOUR SOLUTION**\n",
        "\n",
        "\n"
      ]
    },
    {
      "cell_type": "markdown",
      "metadata": {
        "id": "fEbQBU4oYW5U"
      },
      "source": [
        "The image below, displays the sample mean distribution when we repeat the experiment 10,000 times.\n",
        "\n",
        "<img src=\"clt.png\" alt=\"Drawing\" style=\"width: 400px;\"/>"
      ]
    },
    {
      "cell_type": "markdown",
      "metadata": {
        "id": "KgSJ8G5EYW5U"
      },
      "source": [
        "You can see that as the number of experiments increases, the underlying distribution of the sample means resembles a Guassian, with the mean equal to 3.5, in accordance with the CLT."
      ]
    },
    {
      "cell_type": "markdown",
      "metadata": {
        "id": "PVmiQBPCYW5U"
      },
      "source": [
        "## Exponential Distribution\n",
        "\n",
        "As you know, the exponential distribution is a continuous distribution that is often used to model the expected time one needs to wait before the occurrence of an event.\n",
        "\n",
        "As a reminder, the exponential distribution is defined as:\n",
        "\n",
        "$$f(x) = \\begin{cases}\n",
        "      \\lambda e^{-\\lambda x} \\text{  if  } x >0 \\\\\n",
        "      0 \\text{  otherwise.}\n",
        "   \\end{cases}\n",
        "$$\n",
        "\n",
        "Additionally, the mean, $\\mu_x$, and the standard deviation, $\\sigma$, of an exponential disribution are given by:\n",
        "\n",
        "$$\\mu_x = \\sigma = \\frac{1}{\\lambda}.$$\n",
        "\n",
        "\n",
        "Suppose you have a population which is exponentially distributed and defined by the parameter $\\lambda = 0.25$. The mean and the standard deviation for this case are given by:"
      ]
    },
    {
      "cell_type": "code",
      "execution_count": null,
      "metadata": {
        "colab": {
          "base_uri": "https://localhost:8080/"
        },
        "id": "byf_2Y76YW5U",
        "outputId": "65c085af-8690-4cb0-cea6-e91364b95e49"
      },
      "outputs": [
        {
          "output_type": "stream",
          "name": "stdout",
          "text": [
            "Population mean: 4.0\n",
            "Population standard deviation: 4.0\n"
          ]
        }
      ],
      "source": [
        "import numpy as np\n",
        "\n",
        "# rate parameter for the exponentially distributed population\n",
        "rate = 0.25\n",
        "\n",
        "# population mean\n",
        "mu = 1/rate\n",
        "\n",
        "# population standard deviation\n",
        "sd = np.sqrt(1/(rate**2))\n",
        "\n",
        "print('Population mean:', mu)\n",
        "print('Population standard deviation:', sd)"
      ]
    },
    {
      "cell_type": "markdown",
      "metadata": {
        "id": "AHzr96kvYW5U"
      },
      "source": [
        "Now determine what the sampling distribution looks like for this population. Consider two cases: one with a small *sample* size (n= 2), and one with a large *sample* size (n=500).\n",
        "\n",
        "First, draw 50 random *samples* of two from the population. The code to do this in Python is given below:"
      ]
    },
    {
      "cell_type": "markdown",
      "source": [],
      "metadata": {
        "id": "JIJJD40vd1kb"
      }
    },
    {
      "cell_type": "code",
      "execution_count": null,
      "metadata": {
        "colab": {
          "base_uri": "https://localhost:8080/",
          "height": 179
        },
        "id": "ohvBac3gYW5U",
        "outputId": "e99098b1-e500-45dd-ada8-9a0fcf633adf"
      },
      "outputs": [
        {
          "output_type": "execute_result",
          "data": {
            "text/plain": [
              "    sample 1  sample 2  sample 3  sample 4  sample 5  sample 6  sample 7  \\\n",
              "x1  1.938791  2.226856  9.913009  0.478122  1.031559  3.475983  8.567979   \n",
              "x2  5.155891  0.792438  1.850116  2.407600  1.496266  2.306153  3.698181   \n",
              "\n",
              "    sample 8  sample 9  sample 10  ...  sample 41  sample 42  sample 43  \\\n",
              "x1  1.041163  0.635365   0.560156  ...   0.076757   2.720764   1.551606   \n",
              "x2  0.788523  1.972464   3.212578  ...   3.663413   5.575814   2.453318   \n",
              "\n",
              "    sample 44  sample 45  sample 46  sample 47  sample 48  sample 49  \\\n",
              "x1   2.663199   0.201278   1.131347   2.158055   5.799337   1.053665   \n",
              "x2   4.315442   1.635285   7.621691   1.828425   4.108799   3.694233   \n",
              "\n",
              "    sample 50  \n",
              "x1   0.557808  \n",
              "x2   0.480680  \n",
              "\n",
              "[2 rows x 50 columns]"
            ],
            "text/html": [
              "\n",
              "  <div id=\"df-db6dbfab-0de3-4940-9715-19dce67314d6\" class=\"colab-df-container\">\n",
              "    <div>\n",
              "<style scoped>\n",
              "    .dataframe tbody tr th:only-of-type {\n",
              "        vertical-align: middle;\n",
              "    }\n",
              "\n",
              "    .dataframe tbody tr th {\n",
              "        vertical-align: top;\n",
              "    }\n",
              "\n",
              "    .dataframe thead th {\n",
              "        text-align: right;\n",
              "    }\n",
              "</style>\n",
              "<table border=\"1\" class=\"dataframe\">\n",
              "  <thead>\n",
              "    <tr style=\"text-align: right;\">\n",
              "      <th></th>\n",
              "      <th>sample 1</th>\n",
              "      <th>sample 2</th>\n",
              "      <th>sample 3</th>\n",
              "      <th>sample 4</th>\n",
              "      <th>sample 5</th>\n",
              "      <th>sample 6</th>\n",
              "      <th>sample 7</th>\n",
              "      <th>sample 8</th>\n",
              "      <th>sample 9</th>\n",
              "      <th>sample 10</th>\n",
              "      <th>...</th>\n",
              "      <th>sample 41</th>\n",
              "      <th>sample 42</th>\n",
              "      <th>sample 43</th>\n",
              "      <th>sample 44</th>\n",
              "      <th>sample 45</th>\n",
              "      <th>sample 46</th>\n",
              "      <th>sample 47</th>\n",
              "      <th>sample 48</th>\n",
              "      <th>sample 49</th>\n",
              "      <th>sample 50</th>\n",
              "    </tr>\n",
              "  </thead>\n",
              "  <tbody>\n",
              "    <tr>\n",
              "      <th>x1</th>\n",
              "      <td>1.938791</td>\n",
              "      <td>2.226856</td>\n",
              "      <td>9.913009</td>\n",
              "      <td>0.478122</td>\n",
              "      <td>1.031559</td>\n",
              "      <td>3.475983</td>\n",
              "      <td>8.567979</td>\n",
              "      <td>1.041163</td>\n",
              "      <td>0.635365</td>\n",
              "      <td>0.560156</td>\n",
              "      <td>...</td>\n",
              "      <td>0.076757</td>\n",
              "      <td>2.720764</td>\n",
              "      <td>1.551606</td>\n",
              "      <td>2.663199</td>\n",
              "      <td>0.201278</td>\n",
              "      <td>1.131347</td>\n",
              "      <td>2.158055</td>\n",
              "      <td>5.799337</td>\n",
              "      <td>1.053665</td>\n",
              "      <td>0.557808</td>\n",
              "    </tr>\n",
              "    <tr>\n",
              "      <th>x2</th>\n",
              "      <td>5.155891</td>\n",
              "      <td>0.792438</td>\n",
              "      <td>1.850116</td>\n",
              "      <td>2.407600</td>\n",
              "      <td>1.496266</td>\n",
              "      <td>2.306153</td>\n",
              "      <td>3.698181</td>\n",
              "      <td>0.788523</td>\n",
              "      <td>1.972464</td>\n",
              "      <td>3.212578</td>\n",
              "      <td>...</td>\n",
              "      <td>3.663413</td>\n",
              "      <td>5.575814</td>\n",
              "      <td>2.453318</td>\n",
              "      <td>4.315442</td>\n",
              "      <td>1.635285</td>\n",
              "      <td>7.621691</td>\n",
              "      <td>1.828425</td>\n",
              "      <td>4.108799</td>\n",
              "      <td>3.694233</td>\n",
              "      <td>0.480680</td>\n",
              "    </tr>\n",
              "  </tbody>\n",
              "</table>\n",
              "<p>2 rows × 50 columns</p>\n",
              "</div>\n",
              "    <div class=\"colab-df-buttons\">\n",
              "\n",
              "  <div class=\"colab-df-container\">\n",
              "    <button class=\"colab-df-convert\" onclick=\"convertToInteractive('df-db6dbfab-0de3-4940-9715-19dce67314d6')\"\n",
              "            title=\"Convert this dataframe to an interactive table.\"\n",
              "            style=\"display:none;\">\n",
              "\n",
              "  <svg xmlns=\"http://www.w3.org/2000/svg\" height=\"24px\" viewBox=\"0 -960 960 960\">\n",
              "    <path d=\"M120-120v-720h720v720H120Zm60-500h600v-160H180v160Zm220 220h160v-160H400v160Zm0 220h160v-160H400v160ZM180-400h160v-160H180v160Zm440 0h160v-160H620v160ZM180-180h160v-160H180v160Zm440 0h160v-160H620v160Z\"/>\n",
              "  </svg>\n",
              "    </button>\n",
              "\n",
              "  <style>\n",
              "    .colab-df-container {\n",
              "      display:flex;\n",
              "      gap: 12px;\n",
              "    }\n",
              "\n",
              "    .colab-df-convert {\n",
              "      background-color: #E8F0FE;\n",
              "      border: none;\n",
              "      border-radius: 50%;\n",
              "      cursor: pointer;\n",
              "      display: none;\n",
              "      fill: #1967D2;\n",
              "      height: 32px;\n",
              "      padding: 0 0 0 0;\n",
              "      width: 32px;\n",
              "    }\n",
              "\n",
              "    .colab-df-convert:hover {\n",
              "      background-color: #E2EBFA;\n",
              "      box-shadow: 0px 1px 2px rgba(60, 64, 67, 0.3), 0px 1px 3px 1px rgba(60, 64, 67, 0.15);\n",
              "      fill: #174EA6;\n",
              "    }\n",
              "\n",
              "    .colab-df-buttons div {\n",
              "      margin-bottom: 4px;\n",
              "    }\n",
              "\n",
              "    [theme=dark] .colab-df-convert {\n",
              "      background-color: #3B4455;\n",
              "      fill: #D2E3FC;\n",
              "    }\n",
              "\n",
              "    [theme=dark] .colab-df-convert:hover {\n",
              "      background-color: #434B5C;\n",
              "      box-shadow: 0px 1px 3px 1px rgba(0, 0, 0, 0.15);\n",
              "      filter: drop-shadow(0px 1px 2px rgba(0, 0, 0, 0.3));\n",
              "      fill: #FFFFFF;\n",
              "    }\n",
              "  </style>\n",
              "\n",
              "    <script>\n",
              "      const buttonEl =\n",
              "        document.querySelector('#df-db6dbfab-0de3-4940-9715-19dce67314d6 button.colab-df-convert');\n",
              "      buttonEl.style.display =\n",
              "        google.colab.kernel.accessAllowed ? 'block' : 'none';\n",
              "\n",
              "      async function convertToInteractive(key) {\n",
              "        const element = document.querySelector('#df-db6dbfab-0de3-4940-9715-19dce67314d6');\n",
              "        const dataTable =\n",
              "          await google.colab.kernel.invokeFunction('convertToInteractive',\n",
              "                                                    [key], {});\n",
              "        if (!dataTable) return;\n",
              "\n",
              "        const docLinkHtml = 'Like what you see? Visit the ' +\n",
              "          '<a target=\"_blank\" href=https://colab.research.google.com/notebooks/data_table.ipynb>data table notebook</a>'\n",
              "          + ' to learn more about interactive tables.';\n",
              "        element.innerHTML = '';\n",
              "        dataTable['output_type'] = 'display_data';\n",
              "        await google.colab.output.renderOutput(dataTable, element);\n",
              "        const docLink = document.createElement('div');\n",
              "        docLink.innerHTML = docLinkHtml;\n",
              "        element.appendChild(docLink);\n",
              "      }\n",
              "    </script>\n",
              "  </div>\n",
              "\n",
              "\n",
              "<div id=\"df-2654042d-ae24-4e31-8402-eb02c616f0be\">\n",
              "  <button class=\"colab-df-quickchart\" onclick=\"quickchart('df-2654042d-ae24-4e31-8402-eb02c616f0be')\"\n",
              "            title=\"Suggest charts\"\n",
              "            style=\"display:none;\">\n",
              "\n",
              "<svg xmlns=\"http://www.w3.org/2000/svg\" height=\"24px\"viewBox=\"0 0 24 24\"\n",
              "     width=\"24px\">\n",
              "    <g>\n",
              "        <path d=\"M19 3H5c-1.1 0-2 .9-2 2v14c0 1.1.9 2 2 2h14c1.1 0 2-.9 2-2V5c0-1.1-.9-2-2-2zM9 17H7v-7h2v7zm4 0h-2V7h2v10zm4 0h-2v-4h2v4z\"/>\n",
              "    </g>\n",
              "</svg>\n",
              "  </button>\n",
              "\n",
              "<style>\n",
              "  .colab-df-quickchart {\n",
              "      --bg-color: #E8F0FE;\n",
              "      --fill-color: #1967D2;\n",
              "      --hover-bg-color: #E2EBFA;\n",
              "      --hover-fill-color: #174EA6;\n",
              "      --disabled-fill-color: #AAA;\n",
              "      --disabled-bg-color: #DDD;\n",
              "  }\n",
              "\n",
              "  [theme=dark] .colab-df-quickchart {\n",
              "      --bg-color: #3B4455;\n",
              "      --fill-color: #D2E3FC;\n",
              "      --hover-bg-color: #434B5C;\n",
              "      --hover-fill-color: #FFFFFF;\n",
              "      --disabled-bg-color: #3B4455;\n",
              "      --disabled-fill-color: #666;\n",
              "  }\n",
              "\n",
              "  .colab-df-quickchart {\n",
              "    background-color: var(--bg-color);\n",
              "    border: none;\n",
              "    border-radius: 50%;\n",
              "    cursor: pointer;\n",
              "    display: none;\n",
              "    fill: var(--fill-color);\n",
              "    height: 32px;\n",
              "    padding: 0;\n",
              "    width: 32px;\n",
              "  }\n",
              "\n",
              "  .colab-df-quickchart:hover {\n",
              "    background-color: var(--hover-bg-color);\n",
              "    box-shadow: 0 1px 2px rgba(60, 64, 67, 0.3), 0 1px 3px 1px rgba(60, 64, 67, 0.15);\n",
              "    fill: var(--button-hover-fill-color);\n",
              "  }\n",
              "\n",
              "  .colab-df-quickchart-complete:disabled,\n",
              "  .colab-df-quickchart-complete:disabled:hover {\n",
              "    background-color: var(--disabled-bg-color);\n",
              "    fill: var(--disabled-fill-color);\n",
              "    box-shadow: none;\n",
              "  }\n",
              "\n",
              "  .colab-df-spinner {\n",
              "    border: 2px solid var(--fill-color);\n",
              "    border-color: transparent;\n",
              "    border-bottom-color: var(--fill-color);\n",
              "    animation:\n",
              "      spin 1s steps(1) infinite;\n",
              "  }\n",
              "\n",
              "  @keyframes spin {\n",
              "    0% {\n",
              "      border-color: transparent;\n",
              "      border-bottom-color: var(--fill-color);\n",
              "      border-left-color: var(--fill-color);\n",
              "    }\n",
              "    20% {\n",
              "      border-color: transparent;\n",
              "      border-left-color: var(--fill-color);\n",
              "      border-top-color: var(--fill-color);\n",
              "    }\n",
              "    30% {\n",
              "      border-color: transparent;\n",
              "      border-left-color: var(--fill-color);\n",
              "      border-top-color: var(--fill-color);\n",
              "      border-right-color: var(--fill-color);\n",
              "    }\n",
              "    40% {\n",
              "      border-color: transparent;\n",
              "      border-right-color: var(--fill-color);\n",
              "      border-top-color: var(--fill-color);\n",
              "    }\n",
              "    60% {\n",
              "      border-color: transparent;\n",
              "      border-right-color: var(--fill-color);\n",
              "    }\n",
              "    80% {\n",
              "      border-color: transparent;\n",
              "      border-right-color: var(--fill-color);\n",
              "      border-bottom-color: var(--fill-color);\n",
              "    }\n",
              "    90% {\n",
              "      border-color: transparent;\n",
              "      border-bottom-color: var(--fill-color);\n",
              "    }\n",
              "  }\n",
              "</style>\n",
              "\n",
              "  <script>\n",
              "    async function quickchart(key) {\n",
              "      const quickchartButtonEl =\n",
              "        document.querySelector('#' + key + ' button');\n",
              "      quickchartButtonEl.disabled = true;  // To prevent multiple clicks.\n",
              "      quickchartButtonEl.classList.add('colab-df-spinner');\n",
              "      try {\n",
              "        const charts = await google.colab.kernel.invokeFunction(\n",
              "            'suggestCharts', [key], {});\n",
              "      } catch (error) {\n",
              "        console.error('Error during call to suggestCharts:', error);\n",
              "      }\n",
              "      quickchartButtonEl.classList.remove('colab-df-spinner');\n",
              "      quickchartButtonEl.classList.add('colab-df-quickchart-complete');\n",
              "    }\n",
              "    (() => {\n",
              "      let quickchartButtonEl =\n",
              "        document.querySelector('#df-2654042d-ae24-4e31-8402-eb02c616f0be button');\n",
              "      quickchartButtonEl.style.display =\n",
              "        google.colab.kernel.accessAllowed ? 'block' : 'none';\n",
              "    })();\n",
              "  </script>\n",
              "</div>\n",
              "    </div>\n",
              "  </div>\n"
            ]
          },
          "metadata": {},
          "execution_count": 16
        }
      ],
      "source": [
        "import pandas as pd\n",
        "import numpy as np\n",
        "\n",
        "# drawing 50 random samples of size 2 from the exponentially distributed population\n",
        "sample_size = 2\n",
        "#generating an empty dataframe\n",
        "df2 = pd.DataFrame(index= ['x1', 'x2'] )\n",
        "\n",
        "#filling the dataframe with exponentially distributed points\n",
        "for i in range(1, 51):\n",
        "    exponential_sample = np.random.exponential((1/rate), sample_size)\n",
        "    col = f'sample {i}'\n",
        "    df2[col] = exponential_sample\n",
        "\n",
        "df2"
      ]
    },
    {
      "cell_type": "markdown",
      "metadata": {
        "id": "6UOupje8YW5U"
      },
      "source": [
        "For each of the 50 *samples*, you can calculate the *sample* mean and plot its distribution using Seaborn as follows:"
      ]
    },
    {
      "cell_type": "code",
      "execution_count": null,
      "metadata": {
        "colab": {
          "base_uri": "https://localhost:8080/",
          "height": 631
        },
        "id": "HbmEsI1sYW5U",
        "outputId": "d1c4ba51-0884-4303-840d-b4cb524eca7a"
      },
      "outputs": [
        {
          "output_type": "stream",
          "name": "stderr",
          "text": [
            "<ipython-input-17-d19506aaf150>:4: UserWarning: \n",
            "\n",
            "`distplot` is a deprecated function and will be removed in seaborn v0.14.0.\n",
            "\n",
            "Please adapt your code to use either `displot` (a figure-level function with\n",
            "similar flexibility) or `histplot` (an axes-level function for histograms).\n",
            "\n",
            "For a guide to updating your code to use the new functions, please see\n",
            "https://gist.github.com/mwaskom/de44147ed2974457ad6372750bbe5751\n",
            "\n",
            "  sns.distplot(df2_sample_means);\n"
          ]
        },
        {
          "output_type": "display_data",
          "data": {
            "text/plain": [
              "<Figure size 640x480 with 1 Axes>"
            ],
            "image/png": "[encoded data removed]"
          },
          "metadata": {}
        }
      ],
      "source": [
        "import seaborn as sns\n",
        "# calculating sample means and plotting their distribution\n",
        "df2_sample_means = df2.mean()\n",
        "sns.distplot(df2_sample_means);"
      ]
    },
    {
      "cell_type": "markdown",
      "metadata": {
        "id": "kx3EsUz-YW5U"
      },
      "source": [
        "You can see that even for a small *sample* size such as two, the distribution of *sample* means looks like a poor approximation of a normal distribution, with some left skew. This is due to the fact that the *sample* size is too small (n=2) and this size is not large enough for the CLT to hold.\n",
        "\n",
        "\n",
        "What happens if you try to repeat the above process, but with a much larger *sample* size?\n",
        "\n",
        "In the code cell below, fill in the ellipsis to set the *sample* size equal to 500."
      ]
    },
    {
      "cell_type": "code",
      "execution_count": null,
      "metadata": {
        "colab": {
          "base_uri": "https://localhost:8080/",
          "height": 631
        },
        "id": "cE8elsukYW5U",
        "outputId": "30f294db-3375-493d-9fef-561816750dcc"
      },
      "outputs": [
        {
          "output_type": "stream",
          "name": "stderr",
          "text": [
            "<ipython-input-22-a1d66febb24f>:13: UserWarning: \n",
            "\n",
            "`distplot` is a deprecated function and will be removed in seaborn v0.14.0.\n",
            "\n",
            "Please adapt your code to use either `displot` (a figure-level function with\n",
            "similar flexibility) or `histplot` (an axes-level function for histograms).\n",
            "\n",
            "For a guide to updating your code to use the new functions, please see\n",
            "https://gist.github.com/mwaskom/de44147ed2974457ad6372750bbe5751\n",
            "\n",
            "  sns.distplot(df500_sample_means);\n"
          ]
        },
        {
          "output_type": "display_data",
          "data": {
            "text/plain": [
              "<Figure size 640x480 with 1 Axes>"
            ],
            "image/png": "[encoded data removed]"
          },
          "metadata": {}
        }
      ],
      "source": [
        "# drawing 50 random samples of size 500\n",
        "sample_size=500\n",
        "\n",
        "df500 = pd.DataFrame()\n",
        "\n",
        "for i in range(1, 51):\n",
        "    exponential_sample = np.random.exponential((1/rate), sample_size)\n",
        "    col = f'sample {i}'\n",
        "    df500[col] = exponential_sample\n",
        "\n",
        "\n",
        "df500_sample_means = pd.DataFrame(df500.mean(),columns=['Sample means'])\n",
        "sns.distplot(df500_sample_means);"
      ]
    },
    {
      "cell_type": "markdown",
      "metadata": {
        "id": "xGPpdRVvYW5U"
      },
      "source": [
        "After running the experiment with a *sample* size equal to 500, you should see a distribution similar to the one below:\n",
        "\n",
        "<img src=\"exp.png\" alt=\"Drawing\" style=\"width: 400px;\"/>\n",
        "\n",
        "\n",
        "You notice that the *sampling* distribution looks much more like a normal distribution now as you have used a much larger sample size (n=500). You can also see that the mean of the *sampling* distribution is close to the theoretical one that we computed above."
      ]
    },
    {
      "cell_type": "code",
      "execution_count": null,
      "metadata": {
        "id": "uWXLYMYCYW5V"
      },
      "outputs": [],
      "source": []
    }
  ],
  "metadata": {
    "kernelspec": {
      "display_name": "Python 3",
      "language": "python",
      "name": "python3"
    },
    "language_info": {
      "codemirror_mode": {
        "name": "ipython",
        "version": 3
      },
      "file_extension": ".py",
      "mimetype": "text/x-python",
      "name": "python",
      "nbconvert_exporter": "python",
      "pygments_lexer": "ipython3",
      "version": "3.8.8"
    },
    "colab": {
      "provenance": [],
      "include_colab_link": true
    }
  },
  "nbformat": 4,
  "nbformat_minor": 0
}